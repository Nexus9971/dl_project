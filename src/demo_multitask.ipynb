{
 "cells": [
  {
   "cell_type": "code",
   "execution_count": 1,
   "metadata": {},
   "outputs": [
    {
     "name": "stderr",
     "output_type": "stream",
     "text": [
      "2025-02-05 23:44:39.688530: I tensorflow/tsl/cuda/cudart_stub.cc:28] Could not find cuda drivers on your machine, GPU will not be used.\n",
      "2025-02-05 23:44:39.727594: I tensorflow/core/platform/cpu_feature_guard.cc:182] This TensorFlow binary is optimized to use available CPU instructions in performance-critical operations.\n",
      "To enable the following instructions: AVX2 AVX512F FMA, in other operations, rebuild TensorFlow with the appropriate compiler flags.\n",
      "2025-02-05 23:44:40.388800: W tensorflow/compiler/tf2tensorrt/utils/py_utils.cc:38] TF-TRT Warning: Could not find TensorRT\n"
     ]
    }
   ],
   "source": [
    "#from cityscapes_dataset import CityscapesDataset\n",
    "from nyuv2_dataset import NYUv2Dataset\n",
    "import torch\n",
    "from torch.utils.data import DataLoader\n",
    "import matplotlib.pyplot as plt\n",
    "from densenet import DenseNet\n",
    "\n",
    "from trainer import Trainer\n",
    "from utils import visualize_results_multitask, count_params, AngleDistance, MeanAbsoluteRelativeError"
   ]
  },
  {
   "cell_type": "code",
   "execution_count": 8,
   "metadata": {},
   "outputs": [
    {
     "name": "stdout",
     "output_type": "stream",
     "text": [
      "Preds: tensor([ 84.9453, 120.7298, 119.1726])\n",
      "Targets: tensor([123.4151, 157.6932, 134.8378])\n",
      "Preds: tensor([ 84.9453, 120.7298, 119.1726])\n",
      "Targets: tensor([123.4151, 157.6932, 134.8378])\n"
     ]
    },
    {
     "data": {
      "text/plain": [
       "(tensor(10.1220), tensor(12.3211), tensor([0.0000, 0.3333, 0.3333]))"
      ]
     },
     "execution_count": 8,
     "metadata": {},
     "output_type": "execute_result"
    }
   ],
   "source": [
    "prova_in = torch.randn(3)\n",
    "prova_out = torch.randn(3)\n",
    "tanh = torch.nn.Tanh()\n",
    "out = tanh(prova_in)\n",
    "prova_out = tanh(prova_out)\n",
    "stat = AngleDistance()\n",
    "#stat.update(out, prova_out)\n",
    "stat(out, prova_out)"
   ]
  },
  {
   "cell_type": "code",
   "execution_count": null,
   "metadata": {},
   "outputs": [],
   "source": [
    "x = torch.randn(2, 3, 224, 224)\n",
    "y = torch.randn(2, 3, 224, 224)\n",
    "B, C, H, W = x.shape\n",
    "x_flat = x.view(B, 1, C*H*W)\n",
    "y_flat = y.view(B, C*H*W, 1)\n",
    "pq = H*W\n",
    "res = -(1/pq)*torch.matmul(x_flat, y_flat).squeeze(1)\n",
    "res = torch.mean(res)\n",
    "print(res)"
   ]
  },
  {
   "cell_type": "code",
   "execution_count": 2,
   "metadata": {},
   "outputs": [],
   "source": [
    "LABELS = 7\n",
    "BATCH_SIZE = 8"
   ]
  },
  {
   "cell_type": "code",
   "execution_count": null,
   "metadata": {},
   "outputs": [],
   "source": [
    "device = torch.device(\"cuda\" if torch.cuda.is_available() else \"cpu\")\n",
    "print(f\"Using device: {device}\")"
   ]
  },
  {
   "cell_type": "code",
   "execution_count": null,
   "metadata": {},
   "outputs": [],
   "source": [
    "nyuv2 = NYUv2Dataset(root=\"../nyuv2_preprocessed\")\n",
    "train_dl = DataLoader(nyuv2, batch_size=1, shuffle=True)\n",
    "for image, label, depth, normals in train_dl:\n",
    "    print(f'Image: {image.shape}, Label: {label.shape}, Depth: {depth.shape}, Normals: {normals.shape}')\n",
    "    print(f'Image: {image.max()}, {image.min()}') \n",
    "    print(f'Label: {label.max()}, {label.min()}')\n",
    "    print(f'Depth: {depth.max()}, {depth.min()}')\n",
    "    print(f'Normals: {normals.max()}, {normals.min()}')\n",
    "    break\n",
    "ax, fig = plt.subplots(4, figsize=(10, 10))\n",
    "fig[0].imshow(image[0].permute(1, 2, 0))\n",
    "fig[1].imshow(label[0])\n",
    "fig[2].imshow(depth[0])\n",
    "fig[3].imshow(normals[0].permute(1, 2, 0))\n",
    "plt.show()"
   ]
  },
  {
   "cell_type": "code",
   "execution_count": null,
   "metadata": {},
   "outputs": [],
   "source": [
    "cityscapes_train = CityscapesDataset(root=\"../cityscapes_preprocessed\", split=\"train\",labels=LABELS)\n",
    "train_dl = DataLoader(cityscapes_train, batch_size=BATCH_SIZE, shuffle=False)\n",
    "for image, label, depth in train_dl:\n",
    "    print(f'Image: {image.shape}, Label: {label.shape}, Depth: {depth.shape}')\n",
    "    print(f'Image: {image.max()}, {image.min()}') \n",
    "    print(f'Label: {label.max()}, {label.min()}')\n",
    "    print(f'Depth: {depth.max()}, {depth.min()}')\n",
    "    break\n",
    "ax, fig = plt.subplots(3, figsize=(10, 10))\n",
    "fig[0].imshow(image[0].permute(1, 2, 0))\n",
    "fig[1].imshow(label[0])\n",
    "fig[2].imshow(depth[0])\n",
    "plt.show()\n",
    "\n",
    "cityscapes_val = CityscapesDataset(root=\"../cityscapes_preprocessed\", split=\"val\", labels=LABELS)\n",
    "val_dl = DataLoader(cityscapes_val, batch_size=BATCH_SIZE, shuffle=False)"
   ]
  },
  {
   "cell_type": "code",
   "execution_count": null,
   "metadata": {},
   "outputs": [],
   "source": [
    "model = DenseNet(classes=LABELS)\n",
    "print(f\"{model.name} has {count_params(model)} parameters\")\n",
    "opt = torch.optim.Adam(model.parameters(), lr=1e-4)\n",
    "trainer = Trainer(model, opt)\n",
    "trainer.train(train_dl, val_dl, epochs=2, save=True)"
   ]
  },
  {
   "cell_type": "code",
   "execution_count": null,
   "metadata": {},
   "outputs": [],
   "source": [
    "device = torch.device(\"cuda:0\" if torch.cuda.is_available() else \"cpu\")\n",
    "tests = 10\n",
    "path = 'models/mtan/mtan_train10.pth'\n",
    "model = MTAN(classes=LABELS)\n",
    "model.load_state_dict(torch.load(path, weights_only=True))\n",
    "model.to(device)\n",
    "for i, (img, img_seg, img_depth) in enumerate(val_dl):\n",
    "    visualize_results_multitask(model, img[0], img_seg[0], img_depth[0], device)\n",
    "    if i == tests:\n",
    "        break"
   ]
  }
 ],
 "metadata": {
  "kernelspec": {
   "display_name": ".venv",
   "language": "python",
   "name": "python3"
  },
  "language_info": {
   "codemirror_mode": {
    "name": "ipython",
    "version": 3
   },
   "file_extension": ".py",
   "mimetype": "text/x-python",
   "name": "python",
   "nbconvert_exporter": "python",
   "pygments_lexer": "ipython3",
   "version": "3.8.10"
  }
 },
 "nbformat": 4,
 "nbformat_minor": 2
}
