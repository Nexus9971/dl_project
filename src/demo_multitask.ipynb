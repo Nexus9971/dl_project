{
 "cells": [
  {
   "cell_type": "code",
   "execution_count": 1,
   "metadata": {},
   "outputs": [
    {
     "name": "stderr",
     "output_type": "stream",
     "text": [
      "2025-03-01 18:32:20.408484: I tensorflow/tsl/cuda/cudart_stub.cc:28] Could not find cuda drivers on your machine, GPU will not be used.\n",
      "2025-03-01 18:32:20.473597: I tensorflow/core/platform/cpu_feature_guard.cc:182] This TensorFlow binary is optimized to use available CPU instructions in performance-critical operations.\n",
      "To enable the following instructions: AVX2 AVX512F FMA, in other operations, rebuild TensorFlow with the appropriate compiler flags.\n",
      "2025-03-01 18:32:21.578888: W tensorflow/compiler/tf2tensorrt/utils/py_utils.cc:38] TF-TRT Warning: Could not find TensorRT\n"
     ]
    }
   ],
   "source": [
    "#from cityscapes_dataset import CityscapesDataset\n",
    "from nyuv2_dataset import NYUv2Dataset\n",
    "from cityscapes_dataset import CityscapesDataset\n",
    "import torch\n",
    "from torch.utils.data import DataLoader\n",
    "import matplotlib.pyplot as plt\n",
    "from densenet import DenseNet\n",
    "\n",
    "from trainer import Trainer\n",
    "from utils import visualize_results_multitask, count_params, AngleDistance, MeanAbsoluteRelativeError"
   ]
  },
  {
   "cell_type": "code",
   "execution_count": 2,
   "metadata": {},
   "outputs": [],
   "source": [
    "LABELS = 7\n",
    "BATCH_SIZE = 8"
   ]
  },
  {
   "cell_type": "code",
   "execution_count": 3,
   "metadata": {},
   "outputs": [
    {
     "name": "stdout",
     "output_type": "stream",
     "text": [
      "Using device: cuda:0\n"
     ]
    }
   ],
   "source": [
    "device = torch.device(\"cuda:0\" if torch.cuda.is_available() else \"cpu\")\n",
    "print(f\"Using device: {device}\")"
   ]
  },
  {
   "cell_type": "code",
   "execution_count": 27,
   "metadata": {},
   "outputs": [
    {
     "name": "stdout",
     "output_type": "stream",
     "text": [
      "NYUv2 Dataset\n",
      "Image: [1, 3, 288, 384], Label: [1, 288, 384], Depth: [1, 288, 384], Normals: [1, 3, 288, 384]\n",
      "Image: 1.0, 0.0\n",
      "Label: 7.0,-1.0\n",
      "Depth: 9.968480110168457, 0.0\n",
      "Normals: 0.9999846216542477, -0.9999846216542477\n"
     ]
    }
   ],
   "source": [
    "print(\"NYUv2 Dataset\")\n",
    "nyuv2 = NYUv2Dataset(root=\"../dataset/nyuv2_preprocessed\")\n",
    "train_dl = DataLoader(nyuv2, batch_size=1, shuffle=True)\n",
    "for image, out in train_dl:\n",
    "    print('Image: ' + str(list(image.shape)) + ',' + ' Label: ' + str(list(out['segmentation'].shape)) + ',' + ' Depth: ' + str(list(out['depth'].shape)) + ',' + ' Normals: ' + str(list(out['normal'].shape)))\n",
    "    print(f'Image: {image.max().item()}, {image.min().item()}') \n",
    "    print('Label: ' +  str(out['segmentation'].max().item()) + ',' + str(out['segmentation'].min().item()))\n",
    "    print('Depth: ' + str(out['depth'].max().item()) + ', ' + str(out['depth'].min().item()))\n",
    "    print('Normals: ' + str(out['normal'].max().item()) + ', ' + str(out['normal'].min().item()))\n",
    "    break\n",
    "# ax, fig = plt.subplots(4, figsize=(10, 10))\n",
    "# fig[0].imshow(image[0].permute(1, 2, 0))\n",
    "# fig[1].imshow(label[0])\n",
    "# fig[2].imshow(depth[0])\n",
    "# fig[3].imshow(normals[0].permute(1, 2, 0))\n",
    "# plt.show()"
   ]
  },
  {
   "cell_type": "code",
   "execution_count": 28,
   "metadata": {},
   "outputs": [
    {
     "name": "stdout",
     "output_type": "stream",
     "text": [
      "Cityscapes Dataset\n",
      "Image: [1, 3, 128, 256], Label: [1, 128, 256], Depth: [1, 128, 256]\n",
      "Image: 0.9725490196078431, 0.06274509803921569\n",
      "Label: 6.0, -1.0\n",
      "Depth: 0.4922102689743042, 0.0\n"
     ]
    }
   ],
   "source": [
    "print(\"Cityscapes Dataset\")\n",
    "cityscapes = CityscapesDataset(root=\"../dataset/cityscapes_preprocessed\")\n",
    "train_dl = DataLoader(cityscapes, batch_size=1, shuffle=True)\n",
    "for image, out in train_dl:\n",
    "    print('Image: ' + str(list(image.shape)) + ',' + ' Label: ' + str(list(out['segmentation'].shape)) + ',' + ' Depth: ' + str(list(out['depth'].shape)))\n",
    "    print(f'Image: {image.max().item()}, {image.min().item()}') \n",
    "    print('Label: ' +  str(out['segmentation'].max().item()) + ', ' + str(out['segmentation'].min().item()))\n",
    "    print('Depth: ' + str(out['depth'].max().item()) + ', ' + str(out['depth'].min().item()))\n",
    "    break"
   ]
  },
  {
   "cell_type": "code",
   "execution_count": null,
   "metadata": {},
   "outputs": [],
   "source": [
    "cityscapes_train = CityscapesDataset(root=\"../cityscapes_preprocessed\", split=\"train\",labels=LABELS)\n",
    "train_dl = DataLoader(cityscapes_train, batch_size=BATCH_SIZE, shuffle=False)\n",
    "for image, label, depth in train_dl:\n",
    "    print(f'Image: {image.shape}, Label: {label.shape}, Depth: {depth.shape}')\n",
    "    print(f'Image: {image.max()}, {image.min()}') \n",
    "    print(f'Label: {label.max()}, {label.min()}')\n",
    "    print(f'Depth: {depth.max()}, {depth.min()}')\n",
    "    break\n",
    "ax, fig = plt.subplots(3, figsize=(10, 10))\n",
    "fig[0].imshow(image[0].permute(1, 2, 0))\n",
    "fig[1].imshow(label[0])\n",
    "fig[2].imshow(depth[0])\n",
    "plt.show()\n",
    "\n",
    "cityscapes_val = CityscapesDataset(root=\"../cityscapes_preprocessed\", split=\"val\", labels=LABELS)\n",
    "val_dl = DataLoader(cityscapes_val, batch_size=BATCH_SIZE, shuffle=False)"
   ]
  },
  {
   "cell_type": "code",
   "execution_count": null,
   "metadata": {},
   "outputs": [],
   "source": [
    "model = DenseNet(classes=LABELS)\n",
    "print(f\"{model.name} has {count_params(model)} parameters\")\n",
    "opt = torch.optim.Adam(model.parameters(), lr=1e-4)\n",
    "trainer = Trainer(model, opt)\n",
    "trainer.train(train_dl, val_dl, epochs=2, save=True)"
   ]
  },
  {
   "cell_type": "code",
   "execution_count": null,
   "metadata": {},
   "outputs": [],
   "source": [
    "device = torch.device(\"cuda:0\" if torch.cuda.is_available() else \"cpu\")\n",
    "tests = 10\n",
    "path = 'models/mtan/mtan_train10.pth'\n",
    "model = MTAN(classes=LABELS)\n",
    "model.load_state_dict(torch.load(path, weights_only=True))\n",
    "model.to(device)\n",
    "for i, (img, img_seg, img_depth) in enumerate(val_dl):\n",
    "    visualize_results_multitask(model, img[0], img_seg[0], img_depth[0], device)\n",
    "    if i == tests:\n",
    "        break"
   ]
  }
 ],
 "metadata": {
  "kernelspec": {
   "display_name": ".venv",
   "language": "python",
   "name": "python3"
  },
  "language_info": {
   "codemirror_mode": {
    "name": "ipython",
    "version": 3
   },
   "file_extension": ".py",
   "mimetype": "text/x-python",
   "name": "python",
   "nbconvert_exporter": "python",
   "pygments_lexer": "ipython3",
   "version": "3.8.10"
  }
 },
 "nbformat": 4,
 "nbformat_minor": 2
}
