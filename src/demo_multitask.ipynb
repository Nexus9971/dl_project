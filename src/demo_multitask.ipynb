{
 "cells": [
  {
   "cell_type": "code",
   "execution_count": 1,
   "metadata": {},
   "outputs": [
    {
     "name": "stderr",
     "output_type": "stream",
     "text": [
      "2025-03-16 00:35:11.181902: I tensorflow/tsl/cuda/cudart_stub.cc:28] Could not find cuda drivers on your machine, GPU will not be used.\n",
      "2025-03-16 00:35:11.242546: I tensorflow/core/platform/cpu_feature_guard.cc:182] This TensorFlow binary is optimized to use available CPU instructions in performance-critical operations.\n",
      "To enable the following instructions: AVX2 AVX512F FMA, in other operations, rebuild TensorFlow with the appropriate compiler flags.\n",
      "2025-03-16 00:35:12.166850: W tensorflow/compiler/tf2tensorrt/utils/py_utils.cc:38] TF-TRT Warning: Could not find TensorRT\n"
     ]
    }
   ],
   "source": [
    "#from cityscapes_dataset import CityscapesDataset\n",
    "from nyuv2_dataset import NYUv2Dataset\n",
    "from cityscapes_dataset import CityscapesDataset\n",
    "import torch\n",
    "from torch.utils.data import DataLoader\n",
    "import matplotlib.pyplot as plt\n",
    "from cross_stitchnet import CrossStitchNet\n",
    "from densenet import DenseNet\n",
    "from mtan import MTAN\n",
    "from splitnet import SplitNet\n",
    "from trainer import Trainer\n",
    "from utils import count_params"
   ]
  },
  {
   "cell_type": "code",
   "execution_count": 2,
   "metadata": {},
   "outputs": [],
   "source": [
    "LABELS = 7\n",
    "BATCH_SIZE = 8\n",
    "LR = 1e-4"
   ]
  },
  {
   "cell_type": "code",
   "execution_count": 3,
   "metadata": {},
   "outputs": [
    {
     "name": "stdout",
     "output_type": "stream",
     "text": [
      "Using device: cuda:1\n"
     ]
    }
   ],
   "source": [
    "device = torch.device(\"cuda:1\" if torch.cuda.is_available() else \"cpu\")\n",
    "print(f\"Using device: {device}\")"
   ]
  },
  {
   "cell_type": "code",
   "execution_count": 4,
   "metadata": {},
   "outputs": [],
   "source": [
    "# print(\"NYUv2 Dataset\")\n",
    "# nyuv2_train = NYUv2Dataset(root=\"../dataset/nyuv2_preprocessed\", split='train')\n",
    "# classes = nyuv2_train.get_classes()\n",
    "\n",
    "# nyuv2_val = NYUv2Dataset(root=\"../dataset/nyuv2_preprocessed\", split='val')\n",
    "# train_dl = DataLoader(nyuv2_train, batch_size=BATCH_SIZE, shuffle=True)\n",
    "# val_dl = DataLoader(nyuv2_val, batch_size=BATCH_SIZE, shuffle=False)\n",
    "\n",
    "# for image, out in train_dl:\n",
    "#     print('Image: ' + str(list(image.shape)) + ',' + ' Label: ' + str(list(out['segmentation'].shape)) + ',' + ' Depth: ' + str(list(out['depth'].shape)) + ',' + ' Normals: ' + str(list(out['normal'].shape)))\n",
    "#     print(f'Image: {image.max().item()}, {image.min().item()}') \n",
    "#     print('Label: ' +  str(out['segmentation'].max().item()) + ',' + str(out['segmentation'].min().item()))\n",
    "#     print('Depth: ' + str(out['depth'].max().item()) + ', ' + str(out['depth'].min().item()))\n",
    "#     print('Normals: ' + str(out['normal'].max().item()) + ', ' + str(out['normal'].min().item()))\n",
    "#     break\n",
    "# ax, fig = plt.subplots(4, figsize=(10, 10))\n",
    "# fig[0].imshow(image[0].permute(1, 2, 0))\n",
    "# fig[1].imshow(label[0])\n",
    "# fig[2].imshow(depth[0])\n",
    "# fig[3].imshow(normals[0].permute(1, 2, 0))\n",
    "# plt.show()"
   ]
  },
  {
   "cell_type": "code",
   "execution_count": 5,
   "metadata": {},
   "outputs": [
    {
     "name": "stdout",
     "output_type": "stream",
     "text": [
      "Cityscapes Dataset\n",
      "Image: [8, 3, 128, 256], Label: [8, 128, 256], Depth: [8, 128, 256]\n",
      "Image: 1.0, 0.0\n",
      "Label: 6.0, -1.0\n",
      "Depth: 0.4922102689743042, 0.0\n"
     ]
    }
   ],
   "source": [
    "print(\"Cityscapes Dataset\")\n",
    "cityscapes_train = CityscapesDataset(root=\"../dataset/cityscapes_preprocessed\")\n",
    "cityscapes_val = CityscapesDataset(root=\"../dataset/cityscapes_preprocessed\", split='val')\n",
    "train_dl = DataLoader(cityscapes_train, batch_size=BATCH_SIZE, shuffle=True)\n",
    "val_dl = DataLoader(cityscapes_val, batch_size=BATCH_SIZE, shuffle=False)\n",
    "classes = cityscapes_train.get_classes()\n",
    "for image, out in train_dl:\n",
    "    print('Image: ' + str(list(image.shape)) + ',' + ' Label: ' + str(list(out['segmentation'].shape)) + ',' + ' Depth: ' + str(list(out['depth'].shape)))\n",
    "    print(f'Image: {image.max().item()}, {image.min().item()}') \n",
    "    print('Label: ' +  str(out['segmentation'].max().item()) + ', ' + str(out['segmentation'].min().item()))\n",
    "    print('Depth: ' + str(out['depth'].max().item()) + ', ' + str(out['depth'].min().item()))\n",
    "    break"
   ]
  },
  {
   "cell_type": "code",
   "execution_count": 6,
   "metadata": {},
   "outputs": [],
   "source": [
    "# cityscapes_train = CityscapesDataset(root=\"../cityscapes_preprocessed\", split=\"train\",labels=LABELS)\n",
    "# train_dl = DataLoader(cityscapes_train, batch_size=BATCH_SIZE, shuffle=False)\n",
    "# for image, label, depth in train_dl:\n",
    "#     print(f'Image: {image.shape}, Label: {label.shape}, Depth: {depth.shape}')\n",
    "#     print(f'Image: {image.max()}, {image.min()}') \n",
    "#     print(f'Label: {label.max()}, {label.min()}')\n",
    "#     print(f'Depth: {depth.max()}, {depth.min()}')\n",
    "#     break\n",
    "# ax, fig = plt.subplots(3, figsize=(10, 10))\n",
    "# fig[0].imshow(image[0].permute(1, 2, 0))\n",
    "# fig[1].imshow(label[0])\n",
    "# fig[2].imshow(depth[0])\n",
    "# plt.show()\n",
    "\n",
    "# cityscapes_val = CityscapesDataset(root=\"../cityscapes_preprocessed\", split=\"val\", labels=LABELS)\n",
    "# val_dl = DataLoader(cityscapes_val, batch_size=BATCH_SIZE, shuffle=False)"
   ]
  },
  {
   "cell_type": "code",
   "execution_count": 7,
   "metadata": {},
   "outputs": [
    {
     "name": "stdout",
     "output_type": "stream",
     "text": [
      "cross_stitch_seg_dep has 50094350 parameters\n"
     ]
    }
   ],
   "source": [
    "model = CrossStitchNet(classes=classes, tasks=['segmentation', 'depth'], depth_activation='sigmoid').to(device)\n",
    "print(f\"{model.name} has {count_params(model)} parameters\")\n",
    "# opt = torch.optim.Adam(model.parameters(), lr=1e-4)\n",
    "# trainer = Trainer(model, opt)\n",
    "# trainer.train(train_dl, val_dl, epochs=2, save=True)"
   ]
  },
  {
   "cell_type": "code",
   "execution_count": 8,
   "metadata": {},
   "outputs": [],
   "source": [
    "opt = torch.optim.Adam(model.parameters(), lr=LR)\n",
    "trainer = Trainer(model, opt, \"cityscapes\", device)"
   ]
  },
  {
   "cell_type": "code",
   "execution_count": 9,
   "metadata": {},
   "outputs": [
    {
     "name": "stderr",
     "output_type": "stream",
     "text": [
      "100%|██████████| 372/372 [02:38<00:00,  2.35it/s]\n"
     ]
    },
    {
     "name": "stdout",
     "output_type": "stream",
     "text": [
      "Epoch 0/9 - Train Total Loss: 0.0012\n",
      "lambda_segmentation : 1.0 - Train Loss segmentation: 0.7828\n",
      "lambda_depth : 1.0 - Train Loss depth: 0.0713\n",
      "miou: 0.21356379985809326\n",
      "pix_acc: 0.7854910492897034\n",
      "mae: 0.07125096023082733\n",
      "mre: 435.770751953125\n",
      "Gradient Norm: 1.1089879363601105\n",
      "\n"
     ]
    },
    {
     "name": "stderr",
     "output_type": "stream",
     "text": [
      "100%|██████████| 63/63 [00:09<00:00,  6.72it/s]\n"
     ]
    },
    {
     "name": "stdout",
     "output_type": "stream",
     "text": [
      "Val Loss segmentation: 0.7485\n",
      "Val Loss depth: 0.0383\n",
      "miou: 0.27377837896347046\n",
      "pix_acc: 0.8693028092384338\n",
      "mae: 0.032924480736255646\n",
      "mre: 108.64857482910156\n",
      "\n",
      "\n"
     ]
    },
    {
     "name": "stderr",
     "output_type": "stream",
     "text": [
      "100%|██████████| 372/372 [02:40<00:00,  2.32it/s]\n"
     ]
    },
    {
     "name": "stdout",
     "output_type": "stream",
     "text": [
      "Epoch 1/9 - Train Total Loss: 0.0013\n",
      "lambda_segmentation : 1.0301748514175415 - Train Loss segmentation: 0.4087\n",
      "lambda_depth : 0.9698252081871033 - Train Loss depth: 0.0286\n",
      "miou: 0.30211570858955383\n",
      "pix_acc: 0.8841820955276489\n",
      "mae: 0.02859223261475563\n",
      "mre: 61.325714111328125\n",
      "Gradient Norm: 1.109746118773104\n",
      "\n"
     ]
    },
    {
     "name": "stderr",
     "output_type": "stream",
     "text": [
      "100%|██████████| 63/63 [00:09<00:00,  6.71it/s]\n"
     ]
    },
    {
     "name": "stdout",
     "output_type": "stream",
     "text": [
      "Val Loss segmentation: 0.5732\n",
      "Val Loss depth: 0.0339\n",
      "miou: 0.303201287984848\n",
      "pix_acc: 0.8925244808197021\n",
      "mae: 0.025943698361516\n",
      "mre: 67.36127471923828\n",
      "\n",
      "\n"
     ]
    },
    {
     "name": "stderr",
     "output_type": "stream",
     "text": [
      "100%|██████████| 372/372 [02:39<00:00,  2.33it/s]\n"
     ]
    },
    {
     "name": "stdout",
     "output_type": "stream",
     "text": [
      "Epoch 2/9 - Train Total Loss: 0.0009\n",
      "lambda_segmentation : 0.9969107508659363 - Train Loss segmentation: 0.3412\n",
      "lambda_depth : 1.003089189529419 - Train Loss depth: 0.0242\n",
      "miou: 0.33184948563575745\n",
      "pix_acc: 0.9012436866760254\n",
      "mae: 0.02422468736767769\n",
      "mre: 51.406497955322266\n",
      "Gradient Norm: 1.316045624270635\n",
      "\n"
     ]
    },
    {
     "name": "stderr",
     "output_type": "stream",
     "text": [
      "100%|██████████| 63/63 [00:09<00:00,  6.53it/s]\n"
     ]
    },
    {
     "name": "stdout",
     "output_type": "stream",
     "text": [
      "Val Loss segmentation: 0.5081\n",
      "Val Loss depth: 0.0291\n",
      "miou: 0.3354133367538452\n",
      "pix_acc: 0.9043598175048828\n",
      "mae: 0.022734342142939568\n",
      "mre: 76.39156341552734\n",
      "\n",
      "\n"
     ]
    },
    {
     "name": "stderr",
     "output_type": "stream",
     "text": [
      "100%|██████████| 372/372 [02:40<00:00,  2.31it/s]\n"
     ]
    },
    {
     "name": "stdout",
     "output_type": "stream",
     "text": [
      "Epoch 3/9 - Train Total Loss: 0.0008\n",
      "lambda_segmentation : 0.989791750907898 - Train Loss segmentation: 0.2993\n",
      "lambda_depth : 1.010208249092102 - Train Loss depth: 0.0223\n",
      "miou: 0.3537028729915619\n",
      "pix_acc: 0.9123926758766174\n",
      "mae: 0.022232430055737495\n",
      "mre: 49.4459342956543\n",
      "Gradient Norm: 1.079921455610323\n",
      "\n"
     ]
    },
    {
     "name": "stderr",
     "output_type": "stream",
     "text": [
      "100%|██████████| 63/63 [00:09<00:00,  6.68it/s]\n"
     ]
    },
    {
     "name": "stdout",
     "output_type": "stream",
     "text": [
      "Val Loss segmentation: 0.5101\n",
      "Val Loss depth: 0.0291\n",
      "miou: 0.3466391861438751\n",
      "pix_acc: 0.9002622365951538\n",
      "mae: 0.024434009566903114\n",
      "mre: 58.28471755981445\n",
      "\n",
      "\n"
     ]
    },
    {
     "name": "stderr",
     "output_type": "stream",
     "text": [
      "100%|██████████| 372/372 [02:41<00:00,  2.31it/s]\n"
     ]
    },
    {
     "name": "stdout",
     "output_type": "stream",
     "text": [
      "Epoch 4/9 - Train Total Loss: 0.0007\n",
      "lambda_segmentation : 0.9981955885887146 - Train Loss segmentation: 0.2796\n",
      "lambda_depth : 1.0018043518066406 - Train Loss depth: 0.0210\n",
      "miou: 0.36465510725975037\n",
      "pix_acc: 0.9164466857910156\n",
      "mae: 0.020934883505105972\n",
      "mre: 47.055240631103516\n",
      "Gradient Norm: 1.269280672697908\n",
      "\n"
     ]
    },
    {
     "name": "stderr",
     "output_type": "stream",
     "text": [
      "100%|██████████| 63/63 [00:09<00:00,  6.68it/s]\n"
     ]
    },
    {
     "name": "stdout",
     "output_type": "stream",
     "text": [
      "Val Loss segmentation: 0.4877\n",
      "Val Loss depth: 0.0300\n",
      "miou: 0.3513651192188263\n",
      "pix_acc: 0.9103333353996277\n",
      "mae: 0.02352745085954666\n",
      "mre: 65.94541931152344\n",
      "\n",
      "\n"
     ]
    },
    {
     "name": "stderr",
     "output_type": "stream",
     "text": [
      "100%|██████████| 372/372 [02:39<00:00,  2.33it/s]\n"
     ]
    },
    {
     "name": "stdout",
     "output_type": "stream",
     "text": [
      "Epoch 5/9 - Train Total Loss: 0.0006\n",
      "lambda_segmentation : 0.99427330493927 - Train Loss segmentation: 0.2582\n",
      "lambda_depth : 1.00572669506073 - Train Loss depth: 0.0198\n",
      "miou: 0.3779274821281433\n",
      "pix_acc: 0.9220512509346008\n",
      "mae: 0.01980455592274666\n",
      "mre: 45.99300003051758\n",
      "Gradient Norm: 0.9623000459121747\n",
      "\n"
     ]
    },
    {
     "name": "stderr",
     "output_type": "stream",
     "text": [
      "100%|██████████| 63/63 [00:09<00:00,  6.71it/s]\n"
     ]
    },
    {
     "name": "stdout",
     "output_type": "stream",
     "text": [
      "Val Loss segmentation: 0.4102\n",
      "Val Loss depth: 0.0242\n",
      "miou: 0.3571024239063263\n",
      "pix_acc: 0.9161545634269714\n",
      "mae: 0.02086622640490532\n",
      "mre: 60.25763702392578\n",
      "\n",
      "\n"
     ]
    },
    {
     "name": "stderr",
     "output_type": "stream",
     "text": [
      "100%|██████████| 372/372 [02:40<00:00,  2.32it/s]\n"
     ]
    },
    {
     "name": "stdout",
     "output_type": "stream",
     "text": [
      "Epoch 6/9 - Train Total Loss: 0.0008\n",
      "lambda_segmentation : 0.9918993711471558 - Train Loss segmentation: 0.2391\n",
      "lambda_depth : 1.0081006288528442 - Train Loss depth: 0.0190\n",
      "miou: 0.3900740444660187\n",
      "pix_acc: 0.9273210763931274\n",
      "mae: 0.018989436328411102\n",
      "mre: 44.5858039855957\n",
      "Gradient Norm: 0.856705412989393\n",
      "\n"
     ]
    },
    {
     "name": "stderr",
     "output_type": "stream",
     "text": [
      "100%|██████████| 63/63 [00:09<00:00,  6.75it/s]\n"
     ]
    },
    {
     "name": "stdout",
     "output_type": "stream",
     "text": [
      "Val Loss segmentation: 0.4419\n",
      "Val Loss depth: 0.0271\n",
      "miou: 0.3492293655872345\n",
      "pix_acc: 0.9089809060096741\n",
      "mae: 0.02010798454284668\n",
      "mre: 56.260623931884766\n",
      "\n",
      "\n"
     ]
    },
    {
     "name": "stderr",
     "output_type": "stream",
     "text": [
      " 99%|█████████▉| 370/372 [02:39<00:00,  2.32it/s]\n"
     ]
    },
    {
     "ename": "KeyboardInterrupt",
     "evalue": "",
     "output_type": "error",
     "traceback": [
      "\u001b[0;31m---------------------------------------------------------------------------\u001b[0m",
      "\u001b[0;31mKeyboardInterrupt\u001b[0m                         Traceback (most recent call last)",
      "Cell \u001b[0;32mIn[9], line 1\u001b[0m\n\u001b[0;32m----> 1\u001b[0m \u001b[43mtrainer\u001b[49m\u001b[38;5;241;43m.\u001b[39;49m\u001b[43mtrain\u001b[49m\u001b[43m(\u001b[49m\u001b[43mtrain_dl\u001b[49m\u001b[43m,\u001b[49m\u001b[43m \u001b[49m\u001b[43mval_dl\u001b[49m\u001b[43m,\u001b[49m\u001b[43m \u001b[49m\u001b[43mepochs\u001b[49m\u001b[38;5;241;43m=\u001b[39;49m\u001b[38;5;241;43m10\u001b[39;49m\u001b[43m,\u001b[49m\u001b[43m \u001b[49m\u001b[43msave\u001b[49m\u001b[38;5;241;43m=\u001b[39;49m\u001b[38;5;28;43;01mTrue\u001b[39;49;00m\u001b[43m,\u001b[49m\u001b[43m \u001b[49m\u001b[43mcheck\u001b[49m\u001b[38;5;241;43m=\u001b[39;49m\u001b[38;5;241;43m1\u001b[39;49m\u001b[43m,\u001b[49m\u001b[43m \u001b[49m\u001b[43mgrad\u001b[49m\u001b[38;5;241;43m=\u001b[39;49m\u001b[38;5;28;43;01mTrue\u001b[39;49;00m\u001b[43m,\u001b[49m\u001b[43m \u001b[49m\u001b[43mdwa\u001b[49m\u001b[38;5;241;43m=\u001b[39;49m\u001b[38;5;28;43;01mTrue\u001b[39;49;00m\u001b[43m)\u001b[49m\n",
      "File \u001b[0;32m/mnt/5687e6b2-1adf-4c49-82ce-c30e45a94bfd/mds7108293/dl_project/src/trainer.py:604\u001b[0m, in \u001b[0;36mTrainer.train\u001b[0;34m(self, train_dl, val_dl, epochs, save, check, grad, dwa)\u001b[0m\n\u001b[1;32m    602\u001b[0m \u001b[38;5;28;01mdef\u001b[39;00m \u001b[38;5;21mtrain\u001b[39m(\u001b[38;5;28mself\u001b[39m, train_dl, val_dl\u001b[38;5;241m=\u001b[39m\u001b[38;5;28;01mNone\u001b[39;00m, epochs\u001b[38;5;241m=\u001b[39m\u001b[38;5;241m10\u001b[39m, save\u001b[38;5;241m=\u001b[39m\u001b[38;5;28;01mFalse\u001b[39;00m, check\u001b[38;5;241m=\u001b[39m\u001b[38;5;241m5\u001b[39m, grad\u001b[38;5;241m=\u001b[39m\u001b[38;5;28;01mTrue\u001b[39;00m, dwa\u001b[38;5;241m=\u001b[39m\u001b[38;5;28;01mFalse\u001b[39;00m):\n\u001b[1;32m    603\u001b[0m     \u001b[38;5;28;01mif\u001b[39;00m \u001b[38;5;28mlen\u001b[39m(\u001b[38;5;28mself\u001b[39m\u001b[38;5;241m.\u001b[39mmodel\u001b[38;5;241m.\u001b[39mtasks) \u001b[38;5;241m>\u001b[39m \u001b[38;5;241m1\u001b[39m:\n\u001b[0;32m--> 604\u001b[0m        \u001b[38;5;28;43mself\u001b[39;49m\u001b[38;5;241;43m.\u001b[39;49m\u001b[43m_train_multitask\u001b[49m\u001b[43m(\u001b[49m\u001b[43mtrain_dl\u001b[49m\u001b[43m,\u001b[49m\u001b[43m \u001b[49m\u001b[43mval_dl\u001b[49m\u001b[43m,\u001b[49m\u001b[43m \u001b[49m\u001b[43mepochs\u001b[49m\u001b[43m,\u001b[49m\u001b[43m \u001b[49m\u001b[43msave\u001b[49m\u001b[43m,\u001b[49m\u001b[43m \u001b[49m\u001b[43mcheck\u001b[49m\u001b[43m,\u001b[49m\u001b[43m \u001b[49m\u001b[43mgrad\u001b[49m\u001b[43m,\u001b[49m\u001b[43m \u001b[49m\u001b[43mdwa\u001b[49m\u001b[43m)\u001b[49m\n\u001b[1;32m    605\u001b[0m     \u001b[38;5;28;01melse\u001b[39;00m:\n\u001b[1;32m    606\u001b[0m         \u001b[38;5;28mself\u001b[39m\u001b[38;5;241m.\u001b[39m_train_singletask(train_dl, val_dl, epochs, save, check, grad)\n",
      "File \u001b[0;32m/mnt/5687e6b2-1adf-4c49-82ce-c30e45a94bfd/mds7108293/dl_project/src/trainer.py:330\u001b[0m, in \u001b[0;36mTrainer._train_multitask\u001b[0;34m(self, train_dl, val_dl, epochs, save, check, grad, dwa)\u001b[0m\n\u001b[1;32m    323\u001b[0m loss \u001b[38;5;241m=\u001b[39m \u001b[38;5;28msum\u001b[39m([\u001b[38;5;28mself\u001b[39m\u001b[38;5;241m.\u001b[39mlambdas[k]\u001b[38;5;241m*\u001b[39mlosses[k] \u001b[38;5;28;01mfor\u001b[39;00m k \u001b[38;5;129;01min\u001b[39;00m losses\u001b[38;5;241m.\u001b[39mkeys()]) \u001b[38;5;66;03m# if dwa else torch.sum(torch.tensor(list(losses.values()))) \u001b[39;00m\n\u001b[1;32m    324\u001b[0m \u001b[38;5;66;03m# if len(self.model.tasks) == 3:\u001b[39;00m\n\u001b[1;32m    325\u001b[0m \u001b[38;5;66;03m#     loss_seg, loss_depth, loss_normal = self._compute_loss_multitask(x, y_seg, y_dis, stats_seg, stats_depth, stats_normal)\u001b[39;00m\n\u001b[1;32m    326\u001b[0m \u001b[38;5;66;03m#     loss = lambdas[0]*loss_seg + lambdas[1]*loss_depth + lambdas[2]*loss_normal\u001b[39;00m\n\u001b[1;32m    327\u001b[0m \u001b[38;5;66;03m# else:\u001b[39;00m\n\u001b[1;32m    328\u001b[0m \u001b[38;5;66;03m#     loss_seg, loss_depth = self._compute_loss_multitask(x, y_seg, y_dis, stats_seg, stats_depth)\u001b[39;00m\n\u001b[1;32m    329\u001b[0m \u001b[38;5;66;03m#     loss = lambdas[0]*loss_seg + lambdas[1]*loss_depth\u001b[39;00m\n\u001b[0;32m--> 330\u001b[0m loss\u001b[38;5;241m.\u001b[39mbackward()\n\u001b[1;32m    331\u001b[0m \u001b[38;5;28mself\u001b[39m\u001b[38;5;241m.\u001b[39mopt\u001b[38;5;241m.\u001b[39mstep()\n\u001b[1;32m    333\u001b[0m \u001b[38;5;66;03m#losses_seg['new'].append(loss_seg.item())\u001b[39;00m\n\u001b[1;32m    334\u001b[0m \u001b[38;5;66;03m#losses_depth['new'].append(loss_depth.item())\u001b[39;00m\n\u001b[1;32m    335\u001b[0m \n\u001b[0;32m   (...)\u001b[0m\n\u001b[1;32m    346\u001b[0m \u001b[38;5;66;03m#     self.lambdas = compute_lambdas(losses_seg, losses_depth, T, self.model.classes)\u001b[39;00m\n\u001b[1;32m    347\u001b[0m \u001b[38;5;66;03m#     update_losses(losses_seg, losses_depth)\u001b[39;00m\n",
      "File \u001b[0;32m~/dl_project/.venv/lib/python3.8/site-packages/torch/_tensor.py:521\u001b[0m, in \u001b[0;36mTensor.backward\u001b[0;34m(self, gradient, retain_graph, create_graph, inputs)\u001b[0m\n\u001b[1;32m    511\u001b[0m \u001b[38;5;28;01mif\u001b[39;00m has_torch_function_unary(\u001b[38;5;28mself\u001b[39m):\n\u001b[1;32m    512\u001b[0m     \u001b[38;5;28;01mreturn\u001b[39;00m handle_torch_function(\n\u001b[1;32m    513\u001b[0m         Tensor\u001b[38;5;241m.\u001b[39mbackward,\n\u001b[1;32m    514\u001b[0m         (\u001b[38;5;28mself\u001b[39m,),\n\u001b[0;32m   (...)\u001b[0m\n\u001b[1;32m    519\u001b[0m         inputs\u001b[38;5;241m=\u001b[39minputs,\n\u001b[1;32m    520\u001b[0m     )\n\u001b[0;32m--> 521\u001b[0m \u001b[43mtorch\u001b[49m\u001b[38;5;241;43m.\u001b[39;49m\u001b[43mautograd\u001b[49m\u001b[38;5;241;43m.\u001b[39;49m\u001b[43mbackward\u001b[49m\u001b[43m(\u001b[49m\n\u001b[1;32m    522\u001b[0m \u001b[43m    \u001b[49m\u001b[38;5;28;43mself\u001b[39;49m\u001b[43m,\u001b[49m\u001b[43m \u001b[49m\u001b[43mgradient\u001b[49m\u001b[43m,\u001b[49m\u001b[43m \u001b[49m\u001b[43mretain_graph\u001b[49m\u001b[43m,\u001b[49m\u001b[43m \u001b[49m\u001b[43mcreate_graph\u001b[49m\u001b[43m,\u001b[49m\u001b[43m \u001b[49m\u001b[43minputs\u001b[49m\u001b[38;5;241;43m=\u001b[39;49m\u001b[43minputs\u001b[49m\n\u001b[1;32m    523\u001b[0m \u001b[43m\u001b[49m\u001b[43m)\u001b[49m\n",
      "File \u001b[0;32m~/dl_project/.venv/lib/python3.8/site-packages/torch/autograd/__init__.py:289\u001b[0m, in \u001b[0;36mbackward\u001b[0;34m(tensors, grad_tensors, retain_graph, create_graph, grad_variables, inputs)\u001b[0m\n\u001b[1;32m    284\u001b[0m     retain_graph \u001b[38;5;241m=\u001b[39m create_graph\n\u001b[1;32m    286\u001b[0m \u001b[38;5;66;03m# The reason we repeat the same comment below is that\u001b[39;00m\n\u001b[1;32m    287\u001b[0m \u001b[38;5;66;03m# some Python versions print out the first line of a multi-line function\u001b[39;00m\n\u001b[1;32m    288\u001b[0m \u001b[38;5;66;03m# calls in the traceback and some print out the last line\u001b[39;00m\n\u001b[0;32m--> 289\u001b[0m \u001b[43m_engine_run_backward\u001b[49m\u001b[43m(\u001b[49m\n\u001b[1;32m    290\u001b[0m \u001b[43m    \u001b[49m\u001b[43mtensors\u001b[49m\u001b[43m,\u001b[49m\n\u001b[1;32m    291\u001b[0m \u001b[43m    \u001b[49m\u001b[43mgrad_tensors_\u001b[49m\u001b[43m,\u001b[49m\n\u001b[1;32m    292\u001b[0m \u001b[43m    \u001b[49m\u001b[43mretain_graph\u001b[49m\u001b[43m,\u001b[49m\n\u001b[1;32m    293\u001b[0m \u001b[43m    \u001b[49m\u001b[43mcreate_graph\u001b[49m\u001b[43m,\u001b[49m\n\u001b[1;32m    294\u001b[0m \u001b[43m    \u001b[49m\u001b[43minputs\u001b[49m\u001b[43m,\u001b[49m\n\u001b[1;32m    295\u001b[0m \u001b[43m    \u001b[49m\u001b[43mallow_unreachable\u001b[49m\u001b[38;5;241;43m=\u001b[39;49m\u001b[38;5;28;43;01mTrue\u001b[39;49;00m\u001b[43m,\u001b[49m\n\u001b[1;32m    296\u001b[0m \u001b[43m    \u001b[49m\u001b[43maccumulate_grad\u001b[49m\u001b[38;5;241;43m=\u001b[39;49m\u001b[38;5;28;43;01mTrue\u001b[39;49;00m\u001b[43m,\u001b[49m\n\u001b[1;32m    297\u001b[0m \u001b[43m\u001b[49m\u001b[43m)\u001b[49m\n",
      "File \u001b[0;32m~/dl_project/.venv/lib/python3.8/site-packages/torch/autograd/graph.py:769\u001b[0m, in \u001b[0;36m_engine_run_backward\u001b[0;34m(t_outputs, *args, **kwargs)\u001b[0m\n\u001b[1;32m    767\u001b[0m     unregister_hooks \u001b[38;5;241m=\u001b[39m _register_logging_hooks_on_whole_graph(t_outputs)\n\u001b[1;32m    768\u001b[0m \u001b[38;5;28;01mtry\u001b[39;00m:\n\u001b[0;32m--> 769\u001b[0m     \u001b[38;5;28;01mreturn\u001b[39;00m \u001b[43mVariable\u001b[49m\u001b[38;5;241;43m.\u001b[39;49m\u001b[43m_execution_engine\u001b[49m\u001b[38;5;241;43m.\u001b[39;49m\u001b[43mrun_backward\u001b[49m\u001b[43m(\u001b[49m\u001b[43m  \u001b[49m\u001b[38;5;66;43;03m# Calls into the C++ engine to run the backward pass\u001b[39;49;00m\n\u001b[1;32m    770\u001b[0m \u001b[43m        \u001b[49m\u001b[43mt_outputs\u001b[49m\u001b[43m,\u001b[49m\u001b[43m \u001b[49m\u001b[38;5;241;43m*\u001b[39;49m\u001b[43margs\u001b[49m\u001b[43m,\u001b[49m\u001b[43m \u001b[49m\u001b[38;5;241;43m*\u001b[39;49m\u001b[38;5;241;43m*\u001b[39;49m\u001b[43mkwargs\u001b[49m\n\u001b[1;32m    771\u001b[0m \u001b[43m    \u001b[49m\u001b[43m)\u001b[49m  \u001b[38;5;66;03m# Calls into the C++ engine to run the backward pass\u001b[39;00m\n\u001b[1;32m    772\u001b[0m \u001b[38;5;28;01mfinally\u001b[39;00m:\n\u001b[1;32m    773\u001b[0m     \u001b[38;5;28;01mif\u001b[39;00m attach_logging_hooks:\n",
      "\u001b[0;31mKeyboardInterrupt\u001b[0m: "
     ]
    }
   ],
   "source": [
    "trainer.train(train_dl, val_dl, epochs=10, save=True, check=1, grad=True, dwa=True)"
   ]
  },
  {
   "cell_type": "code",
   "execution_count": null,
   "metadata": {},
   "outputs": [],
   "source": [
    "# for x, y in train_dl:\n",
    "#     x = x.to(device).to(torch.float)\n",
    "#     y = {k: v.to(device) for k, v in y.items()}\n",
    "#     y['segmentation'] = y['segmentation'].to(torch.long)\n",
    "#     y['depth'] = y['depth'].to(torch.float)\n",
    "#     out = model(x)\n",
    "#     print(f\"Segmentation: {out['segmentation'].shape}\")\n",
    "#     print(f\"Depth: {out['depth'].shape}\")\n",
    "#     print(f\"Normals: {out['normal'].shape}\")\n",
    "#     break"
   ]
  },
  {
   "cell_type": "code",
   "execution_count": null,
   "metadata": {},
   "outputs": [],
   "source": [
    "# device = torch.device(\"cuda:0\" if torch.cuda.is_available() else \"cpu\")\n",
    "# tests = 10\n",
    "# path = 'models/mtan/mtan_train10.pth'\n",
    "# model = MTAN(classes=LABELS)\n",
    "# model.load_state_dict(torch.load(path, weights_only=True))\n",
    "# model.to(device)\n",
    "# for i, (img, img_seg, img_depth) in enumerate(val_dl):\n",
    "#     visualize_results_multitask(model, img[0], img_seg[0], img_depth[0], device)\n",
    "#     if i == tests:\n",
    "#         break"
   ]
  }
 ],
 "metadata": {
  "kernelspec": {
   "display_name": ".venv",
   "language": "python",
   "name": "python3"
  },
  "language_info": {
   "codemirror_mode": {
    "name": "ipython",
    "version": 3
   },
   "file_extension": ".py",
   "mimetype": "text/x-python",
   "name": "python",
   "nbconvert_exporter": "python",
   "pygments_lexer": "ipython3",
   "version": "3.8.10"
  }
 },
 "nbformat": 4,
 "nbformat_minor": 2
}
