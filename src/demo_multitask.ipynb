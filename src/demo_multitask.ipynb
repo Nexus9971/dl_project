{
 "cells": [
  {
   "cell_type": "code",
   "execution_count": 1,
   "metadata": {},
   "outputs": [
    {
     "name": "stderr",
     "output_type": "stream",
     "text": [
      "2025-03-04 00:32:58.524130: I tensorflow/tsl/cuda/cudart_stub.cc:28] Could not find cuda drivers on your machine, GPU will not be used.\n",
      "2025-03-04 00:32:58.562976: I tensorflow/core/platform/cpu_feature_guard.cc:182] This TensorFlow binary is optimized to use available CPU instructions in performance-critical operations.\n",
      "To enable the following instructions: AVX2 AVX512F FMA, in other operations, rebuild TensorFlow with the appropriate compiler flags.\n",
      "2025-03-04 00:32:59.219636: W tensorflow/compiler/tf2tensorrt/utils/py_utils.cc:38] TF-TRT Warning: Could not find TensorRT\n"
     ]
    }
   ],
   "source": [
    "#from cityscapes_dataset import CityscapesDataset\n",
    "from nyuv2_dataset import NYUv2Dataset\n",
    "from cityscapes_dataset import CityscapesDataset\n",
    "import torch\n",
    "from torch.utils.data import DataLoader\n",
    "import matplotlib.pyplot as plt\n",
    "from cross_stitchnet import CrossStitchNet\n",
    "from densenet import DenseNet\n",
    "from mtan import MTAN\n",
    "from splitnet import SplitNet\n",
    "from trainer import Trainer\n",
    "from utils import count_params"
   ]
  },
  {
   "cell_type": "code",
   "execution_count": 2,
   "metadata": {},
   "outputs": [],
   "source": [
    "LABELS = 7\n",
    "BATCH_SIZE = 2\n",
    "LR = 1e-4"
   ]
  },
  {
   "cell_type": "code",
   "execution_count": 3,
   "metadata": {},
   "outputs": [
    {
     "name": "stdout",
     "output_type": "stream",
     "text": [
      "Using device: cuda:0\n"
     ]
    }
   ],
   "source": [
    "device = torch.device(\"cuda:0\" if torch.cuda.is_available() else \"cpu\")\n",
    "print(f\"Using device: {device}\")"
   ]
  },
  {
   "cell_type": "code",
   "execution_count": 4,
   "metadata": {},
   "outputs": [
    {
     "name": "stdout",
     "output_type": "stream",
     "text": [
      "NYUv2 Dataset\n",
      "Image: [2, 3, 288, 384], Label: [2, 288, 384], Depth: [2, 288, 384], Normals: [2, 3, 288, 384]\n",
      "Image: 1.0, 0.0\n",
      "Label: 12.0,-1.0\n",
      "Depth: 3.717261552810669, 0.0\n",
      "Normals: 0.9999846216542477, -0.9999846216542477\n"
     ]
    }
   ],
   "source": [
    "print(\"NYUv2 Dataset\")\n",
    "nyuv2_train = NYUv2Dataset(root=\"../dataset/nyuv2_preprocessed\", split='train')\n",
    "classes = nyuv2_train.get_classes()\n",
    "\n",
    "nyuv2_val = NYUv2Dataset(root=\"../dataset/nyuv2_preprocessed\", split='val')\n",
    "train_dl = DataLoader(nyuv2_train, batch_size=BATCH_SIZE, shuffle=True)\n",
    "val_dl = DataLoader(nyuv2_val, batch_size=BATCH_SIZE, shuffle=False)\n",
    "\n",
    "for image, out in train_dl:\n",
    "    print('Image: ' + str(list(image.shape)) + ',' + ' Label: ' + str(list(out['segmentation'].shape)) + ',' + ' Depth: ' + str(list(out['depth'].shape)) + ',' + ' Normals: ' + str(list(out['normal'].shape)))\n",
    "    print(f'Image: {image.max().item()}, {image.min().item()}') \n",
    "    print('Label: ' +  str(out['segmentation'].max().item()) + ',' + str(out['segmentation'].min().item()))\n",
    "    print('Depth: ' + str(out['depth'].max().item()) + ', ' + str(out['depth'].min().item()))\n",
    "    print('Normals: ' + str(out['normal'].max().item()) + ', ' + str(out['normal'].min().item()))\n",
    "    break\n",
    "# ax, fig = plt.subplots(4, figsize=(10, 10))\n",
    "# fig[0].imshow(image[0].permute(1, 2, 0))\n",
    "# fig[1].imshow(label[0])\n",
    "# fig[2].imshow(depth[0])\n",
    "# fig[3].imshow(normals[0].permute(1, 2, 0))\n",
    "# plt.show()"
   ]
  },
  {
   "cell_type": "code",
   "execution_count": 5,
   "metadata": {},
   "outputs": [],
   "source": [
    "# print(\"Cityscapes Dataset\")\n",
    "# cityscapes = CityscapesDataset(root=\"../dataset/cityscapes_preprocessed\")\n",
    "# train_dl = DataLoader(cityscapes, batch_size=BATCH_SIZE, shuffle=True)\n",
    "# classes = cityscapes.get_classes()\n",
    "# for image, out in train_dl:\n",
    "#     print('Image: ' + str(list(image.shape)) + ',' + ' Label: ' + str(list(out['segmentation'].shape)) + ',' + ' Depth: ' + str(list(out['depth'].shape)))\n",
    "#     print(f'Image: {image.max().item()}, {image.min().item()}') \n",
    "#     print('Label: ' +  str(out['segmentation'].max().item()) + ', ' + str(out['segmentation'].min().item()))\n",
    "#     print('Depth: ' + str(out['depth'].max().item()) + ', ' + str(out['depth'].min().item()))\n",
    "#     break"
   ]
  },
  {
   "cell_type": "code",
   "execution_count": 6,
   "metadata": {},
   "outputs": [],
   "source": [
    "# cityscapes_train = CityscapesDataset(root=\"../cityscapes_preprocessed\", split=\"train\",labels=LABELS)\n",
    "# train_dl = DataLoader(cityscapes_train, batch_size=BATCH_SIZE, shuffle=False)\n",
    "# for image, label, depth in train_dl:\n",
    "#     print(f'Image: {image.shape}, Label: {label.shape}, Depth: {depth.shape}')\n",
    "#     print(f'Image: {image.max()}, {image.min()}') \n",
    "#     print(f'Label: {label.max()}, {label.min()}')\n",
    "#     print(f'Depth: {depth.max()}, {depth.min()}')\n",
    "#     break\n",
    "# ax, fig = plt.subplots(3, figsize=(10, 10))\n",
    "# fig[0].imshow(image[0].permute(1, 2, 0))\n",
    "# fig[1].imshow(label[0])\n",
    "# fig[2].imshow(depth[0])\n",
    "# plt.show()\n",
    "\n",
    "# cityscapes_val = CityscapesDataset(root=\"../cityscapes_preprocessed\", split=\"val\", labels=LABELS)\n",
    "# val_dl = DataLoader(cityscapes_val, batch_size=BATCH_SIZE, shuffle=False)"
   ]
  },
  {
   "cell_type": "code",
   "execution_count": 7,
   "metadata": {},
   "outputs": [
    {
     "name": "stdout",
     "output_type": "stream",
     "text": [
      "cross_stitch_seg_dep_nor has 75141723 parameters\n"
     ]
    }
   ],
   "source": [
    "model = CrossStitchNet(classes=classes, tasks=['segmentation', 'depth', 'normal'], depth_activation='sigmoid').to(device)\n",
    "print(f\"{model.name} has {count_params(model)} parameters\")\n",
    "# opt = torch.optim.Adam(model.parameters(), lr=1e-4)\n",
    "# trainer = Trainer(model, opt)\n",
    "# trainer.train(train_dl, val_dl, epochs=2, save=True)"
   ]
  },
  {
   "cell_type": "code",
   "execution_count": 8,
   "metadata": {},
   "outputs": [],
   "source": [
    "opt = torch.optim.Adam(model.parameters(), lr=LR)\n",
    "trainer = Trainer(model, opt, \"nyuv2\", device)"
   ]
  },
  {
   "cell_type": "code",
   "execution_count": 12,
   "metadata": {},
   "outputs": [
    {
     "name": "stderr",
     "output_type": "stream",
     "text": [
      "  0%|          | 0/398 [47:39<?, ?it/s]\n"
     ]
    },
    {
     "ename": "TypeError",
     "evalue": "sum(): argument 'input' (position 1) must be Tensor, not list",
     "output_type": "error",
     "traceback": [
      "\u001b[0;31m---------------------------------------------------------------------------\u001b[0m",
      "\u001b[0;31mTypeError\u001b[0m                                 Traceback (most recent call last)",
      "Cell \u001b[0;32mIn[12], line 1\u001b[0m\n\u001b[0;32m----> 1\u001b[0m \u001b[43mtrainer\u001b[49m\u001b[38;5;241;43m.\u001b[39;49m\u001b[43mtrain\u001b[49m\u001b[43m(\u001b[49m\u001b[43mtrain_dl\u001b[49m\u001b[43m,\u001b[49m\u001b[43m \u001b[49m\u001b[43mval_dl\u001b[49m\u001b[43m,\u001b[49m\u001b[43m \u001b[49m\u001b[43mepochs\u001b[49m\u001b[38;5;241;43m=\u001b[39;49m\u001b[38;5;241;43m10\u001b[39;49m\u001b[43m,\u001b[49m\u001b[43m \u001b[49m\u001b[43msave\u001b[49m\u001b[38;5;241;43m=\u001b[39;49m\u001b[38;5;28;43;01mTrue\u001b[39;49;00m\u001b[43m,\u001b[49m\u001b[43m \u001b[49m\u001b[43mcheck\u001b[49m\u001b[38;5;241;43m=\u001b[39;49m\u001b[38;5;241;43m1\u001b[39;49m\u001b[43m,\u001b[49m\u001b[43m \u001b[49m\u001b[43mgrad\u001b[49m\u001b[38;5;241;43m=\u001b[39;49m\u001b[38;5;28;43;01mTrue\u001b[39;49;00m\u001b[43m,\u001b[49m\u001b[43m \u001b[49m\u001b[43mdwa\u001b[49m\u001b[38;5;241;43m=\u001b[39;49m\u001b[38;5;241;43m5\u001b[39;49m\u001b[43m)\u001b[49m\n",
      "File \u001b[0;32m/mnt/5687e6b2-1adf-4c49-82ce-c30e45a94bfd/mds7108293/dl_project/src/trainer.py:523\u001b[0m, in \u001b[0;36mTrainer.train\u001b[0;34m(self, train_dl, val_dl, epochs, save, check, grad, dwa)\u001b[0m\n\u001b[1;32m    521\u001b[0m \u001b[38;5;28;01mdef\u001b[39;00m \u001b[38;5;21mtrain\u001b[39m(\u001b[38;5;28mself\u001b[39m, train_dl, val_dl\u001b[38;5;241m=\u001b[39m\u001b[38;5;28;01mNone\u001b[39;00m, epochs\u001b[38;5;241m=\u001b[39m\u001b[38;5;241m10\u001b[39m, save\u001b[38;5;241m=\u001b[39m\u001b[38;5;28;01mFalse\u001b[39;00m, check\u001b[38;5;241m=\u001b[39m\u001b[38;5;241m5\u001b[39m, grad\u001b[38;5;241m=\u001b[39m\u001b[38;5;28;01mTrue\u001b[39;00m, dwa\u001b[38;5;241m=\u001b[39m\u001b[38;5;28;01mNone\u001b[39;00m):\n\u001b[1;32m    522\u001b[0m     \u001b[38;5;28;01mif\u001b[39;00m \u001b[38;5;28mlen\u001b[39m(\u001b[38;5;28mself\u001b[39m\u001b[38;5;241m.\u001b[39mmodel\u001b[38;5;241m.\u001b[39mtasks) \u001b[38;5;241m>\u001b[39m \u001b[38;5;241m1\u001b[39m:\n\u001b[0;32m--> 523\u001b[0m        \u001b[38;5;28;43mself\u001b[39;49m\u001b[38;5;241;43m.\u001b[39;49m\u001b[43m_train_multitask\u001b[49m\u001b[43m(\u001b[49m\u001b[43mtrain_dl\u001b[49m\u001b[43m,\u001b[49m\u001b[43m \u001b[49m\u001b[43mval_dl\u001b[49m\u001b[43m,\u001b[49m\u001b[43m \u001b[49m\u001b[43mepochs\u001b[49m\u001b[43m,\u001b[49m\u001b[43m \u001b[49m\u001b[43msave\u001b[49m\u001b[43m,\u001b[49m\u001b[43m \u001b[49m\u001b[43mcheck\u001b[49m\u001b[43m,\u001b[49m\u001b[43m \u001b[49m\u001b[43mgrad\u001b[49m\u001b[43m,\u001b[49m\u001b[43m \u001b[49m\u001b[43mdwa\u001b[49m\u001b[43m)\u001b[49m\n\u001b[1;32m    524\u001b[0m     \u001b[38;5;28;01melse\u001b[39;00m:\n\u001b[1;32m    525\u001b[0m         \u001b[38;5;28mself\u001b[39m\u001b[38;5;241m.\u001b[39m_train_singletask(train_dl, val_dl, epochs, save, check, grad)\n",
      "File \u001b[0;32m/mnt/5687e6b2-1adf-4c49-82ce-c30e45a94bfd/mds7108293/dl_project/src/trainer.py:299\u001b[0m, in \u001b[0;36mTrainer._train_multitask\u001b[0;34m(self, train_dl, val_dl, epochs, save, check, grad, dwa)\u001b[0m\n\u001b[1;32m    297\u001b[0m \u001b[38;5;66;03m# losses = self._compute_loss_multitask(x, y_seg, y_dis, stats_seg, stats_depth)\u001b[39;00m\n\u001b[1;32m    298\u001b[0m losses \u001b[38;5;241m=\u001b[39m \u001b[38;5;28mself\u001b[39m\u001b[38;5;241m.\u001b[39m_compute_loss_multitask(x, y_dict, \u001b[38;5;28mself\u001b[39m\u001b[38;5;241m.\u001b[39mstats)\n\u001b[0;32m--> 299\u001b[0m loss \u001b[38;5;241m=\u001b[39m \u001b[43mtorch\u001b[49m\u001b[38;5;241;43m.\u001b[39;49m\u001b[43msum\u001b[49m\u001b[43m(\u001b[49m\u001b[43m[\u001b[49m\u001b[38;5;28;43mself\u001b[39;49m\u001b[38;5;241;43m.\u001b[39;49m\u001b[43mlambdas\u001b[49m\u001b[43m[\u001b[49m\u001b[43mk\u001b[49m\u001b[43m]\u001b[49m\u001b[38;5;241;43m*\u001b[39;49m\u001b[43mlosses\u001b[49m\u001b[43m[\u001b[49m\u001b[43mk\u001b[49m\u001b[43m]\u001b[49m\u001b[43m \u001b[49m\u001b[38;5;28;43;01mfor\u001b[39;49;00m\u001b[43m \u001b[49m\u001b[43mk\u001b[49m\u001b[43m \u001b[49m\u001b[38;5;129;43;01min\u001b[39;49;00m\u001b[43m \u001b[49m\u001b[43mlosses\u001b[49m\u001b[38;5;241;43m.\u001b[39;49m\u001b[43mkeys\u001b[49m\u001b[43m(\u001b[49m\u001b[43m)\u001b[49m\u001b[43m]\u001b[49m\u001b[43m)\u001b[49m \u001b[38;5;28;01mif\u001b[39;00m dwa \u001b[38;5;28;01melse\u001b[39;00m torch\u001b[38;5;241m.\u001b[39msum(torch\u001b[38;5;241m.\u001b[39mtensor(\u001b[38;5;28mlist\u001b[39m(losses\u001b[38;5;241m.\u001b[39mvalues()))) \n\u001b[1;32m    300\u001b[0m \u001b[38;5;66;03m# if len(self.model.tasks) == 3:\u001b[39;00m\n\u001b[1;32m    301\u001b[0m \u001b[38;5;66;03m#     loss_seg, loss_depth, loss_normal = self._compute_loss_multitask(x, y_seg, y_dis, stats_seg, stats_depth, stats_normal)\u001b[39;00m\n\u001b[1;32m    302\u001b[0m \u001b[38;5;66;03m#     loss = lambdas[0]*loss_seg + lambdas[1]*loss_depth + lambdas[2]*loss_normal\u001b[39;00m\n\u001b[1;32m    303\u001b[0m \u001b[38;5;66;03m# else:\u001b[39;00m\n\u001b[1;32m    304\u001b[0m \u001b[38;5;66;03m#     loss_seg, loss_depth = self._compute_loss_multitask(x, y_seg, y_dis, stats_seg, stats_depth)\u001b[39;00m\n\u001b[1;32m    305\u001b[0m \u001b[38;5;66;03m#     loss = lambdas[0]*loss_seg + lambdas[1]*loss_depth\u001b[39;00m\n\u001b[1;32m    306\u001b[0m loss\u001b[38;5;241m.\u001b[39mbackward()\n",
      "\u001b[0;31mTypeError\u001b[0m: sum(): argument 'input' (position 1) must be Tensor, not list"
     ]
    }
   ],
   "source": [
    "trainer.train(train_dl, val_dl, epochs=10, save=True, check=1, grad=True, dwa=5)"
   ]
  },
  {
   "cell_type": "code",
   "execution_count": 10,
   "metadata": {},
   "outputs": [],
   "source": [
    "# for x, y in train_dl:\n",
    "#     x = x.to(device).to(torch.float)\n",
    "#     y = {k: v.to(device) for k, v in y.items()}\n",
    "#     y['segmentation'] = y['segmentation'].to(torch.long)\n",
    "#     y['depth'] = y['depth'].to(torch.float)\n",
    "#     out = model(x)\n",
    "#     print(f\"Segmentation: {out['segmentation'].shape}\")\n",
    "#     print(f\"Depth: {out['depth'].shape}\")\n",
    "#     print(f\"Normals: {out['normal'].shape}\")\n",
    "#     break"
   ]
  },
  {
   "cell_type": "code",
   "execution_count": 11,
   "metadata": {},
   "outputs": [],
   "source": [
    "# device = torch.device(\"cuda:0\" if torch.cuda.is_available() else \"cpu\")\n",
    "# tests = 10\n",
    "# path = 'models/mtan/mtan_train10.pth'\n",
    "# model = MTAN(classes=LABELS)\n",
    "# model.load_state_dict(torch.load(path, weights_only=True))\n",
    "# model.to(device)\n",
    "# for i, (img, img_seg, img_depth) in enumerate(val_dl):\n",
    "#     visualize_results_multitask(model, img[0], img_seg[0], img_depth[0], device)\n",
    "#     if i == tests:\n",
    "#         break"
   ]
  }
 ],
 "metadata": {
  "kernelspec": {
   "display_name": ".venv",
   "language": "python",
   "name": "python3"
  },
  "language_info": {
   "codemirror_mode": {
    "name": "ipython",
    "version": 3
   },
   "file_extension": ".py",
   "mimetype": "text/x-python",
   "name": "python",
   "nbconvert_exporter": "python",
   "pygments_lexer": "ipython3",
   "version": "3.8.10"
  }
 },
 "nbformat": 4,
 "nbformat_minor": 2
}
